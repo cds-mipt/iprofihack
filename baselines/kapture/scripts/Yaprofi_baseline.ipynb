{
 "cells": [
  {
   "cell_type": "markdown",
   "metadata": {
    "id": "sEIcutT714x4"
   },
   "source": [
    "#  YaProfi baseline"
   ]
  },
  {
   "cell_type": "code",
   "execution_count": 1,
   "metadata": {},
   "outputs": [
    {
     "data": {
      "text/plain": [
       "'/home/rvmusaev'"
      ]
     },
     "execution_count": 1,
     "metadata": {},
     "output_type": "execute_result"
    }
   ],
   "source": [
    "USER = !pwd\n",
    "USER = USER[0]\n",
    "USER"
   ]
  },
  {
   "cell_type": "code",
   "execution_count": 2,
   "metadata": {},
   "outputs": [
    {
     "name": "stdout",
     "output_type": "stream",
     "text": [
      "/home/rvmusaev\n"
     ]
    }
   ],
   "source": [
    "%cd $USER"
   ]
  },
  {
   "cell_type": "code",
   "execution_count": 3,
   "metadata": {},
   "outputs": [
    {
     "name": "stdout",
     "output_type": "stream",
     "text": [
      "mkdir: cannot create directory ‘/home/repo’: File exists\n",
      "/home/repo\n",
      "fatal: destination path 'r2d2' already exists and is not an empty directory.\n",
      "fatal: destination path 'deep-image-retrieval' already exists and is not an empty directory.\n",
      "fatal: destination path 'kapture' already exists and is not an empty directory.\n",
      "fatal: destination path 'kapture-localization' already exists and is not an empty directory.\n",
      "/home/rvmusaev\n"
     ]
    }
   ],
   "source": [
    "!mkdir /home/repo\n",
    "%cd /home/repo\n",
    "!git clone https://github.com/naver/r2d2.git\n",
    "!git clone https://github.com/naver/deep-image-retrieval.git\n",
    "!git clone https://github.com/naver/kapture.git kapture\n",
    "!git clone https://github.com/naver/kapture-localization.git\n",
    "%cd $USER"
   ]
  },
  {
   "cell_type": "code",
   "execution_count": 4,
   "metadata": {},
   "outputs": [
    {
     "name": "stdout",
     "output_type": "stream",
     "text": [
      "Archive:  /home/rvmusaev/model/Resnet101-AP-GeM-LM18.pt.zip\n",
      "replace Resnet101-AP-GeM-LM18.pt? [y]es, [n]o, [A]ll, [N]one, [r]ename: ^C\n",
      "mv: cannot create regular file '/home/repo/deep-image-retrieval/Resnet101-AP-GeM-LM18.pt': Permission denied\n"
     ]
    }
   ],
   "source": [
    "!unzip $USER/model/Resnet101-AP-GeM-LM18.pt.zip\n",
    "!mv Resnet101-AP-GeM-LM18.pt /home/repo/deep-image-retrieval"
   ]
  },
  {
   "cell_type": "code",
   "execution_count": 10,
   "metadata": {
    "executionInfo": {
     "elapsed": 577,
     "status": "ok",
     "timestamp": 1617981151523,
     "user": {
      "displayName": "Руслан Владимирович Мусаев",
      "photoUrl": "",
      "userId": "15290517068381553356"
     },
     "user_tz": -180
    },
    "id": "cdTuCQWofeIr"
   },
   "outputs": [],
   "source": [
    "import os\n",
    "from tqdm import tqdm\n",
    "\n",
    "class Structure():\n",
    "    \n",
    "    '''\n",
    "    Make appropriate for Kapture structure :\n",
    "    \n",
    "    kapture_dir/\n",
    "        query/\n",
    "            sensors/\n",
    "                ...\n",
    "        mapping/\n",
    "            sensors/\n",
    "                ...\n",
    "    '''\n",
    "\n",
    "    def __init__(self, root):\n",
    "   \n",
    "        self.root = root\n",
    "        self.frequency = {'query': 1, 'mapping': 20}\n",
    "        self.dates = {'mapping':['2021-03-27-09-08-15','2021-03-27-10-17-01', '2021-03-27-10-32-53'],'query':['2021-03-27-03-30-47']}\n",
    "\n",
    "    def mkstructure(self):\n",
    "        \n",
    "        !mkdir $self.root/query/sensors\n",
    "        !mkdir $self.root/mapping/sensors\n",
    "        !mkdir $self.root/query/sensors/records_data\n",
    "        !mkdir $self.root/mapping/sensors/records_data\n",
    "        modes = ['query','mapping']\n",
    "        for mode in modes:\n",
    "            freq = self.frequency[mode]\n",
    "            records_camera = open(f'{self.root}/{mode}/sensors/records_camera.txt', \"w\")\n",
    "            records_camera.write('# timestamp, device_id, image_path\\n')\n",
    "            \n",
    "            sensor =  open(f'{self.root}/{mode}/sensors/sensors.txt', 'w')\n",
    "            sensor.write('# sensor_id, name, sensor_type, [sensor_params]+\\n')\n",
    "            \n",
    "            trajectories = open(f'{self.root}/{mode}/sensors/trajectories.txt','w')\n",
    "            trajectories.write('# timestamp, device_id, tx, ty, tz, qw, qx, qy, qz\\n')\n",
    "            \n",
    "            \n",
    "            dates = sorted(self.dates[mode])\n",
    "            count = 0  ###################### !!!!! true timestaps will be better\n",
    "            for date in dates:\n",
    "                images = sorted(os.listdir(f'{self.root}/{mode}/{date}/rgb_left'))\n",
    "                !cp $self.root/$mode/$date/rgb_left/* $self.root/$mode/sensors/records_data\n",
    "                for index,image in tqdm(enumerate(images)):\n",
    "                    if index % freq == 0:\n",
    "                        string_records_camera = f'{count}, sensor{count}, {self.root}/{mode}/sensors/records_data/rgb_left/{image}' +'\\n'\n",
    "                        records_camera.write(string_records_camera)\n",
    "\n",
    "                        string_sensor = f'sensor{count}, , camera, PINHOLE, 1280, 720, 684.06805, 684.06805, 615.11951 , 345.32159 \\n'\n",
    "                        sensor.write(string_sensor)\n",
    "                        count+=1 \n",
    "                    \n",
    " \n",
    "\n",
    "            records_camera.close()\n",
    "            sensor.close()\n",
    "        \n",
    "        \n",
    "        gt_train =  sorted(list(map(lambda x: 'f{USER}/YaProfi/mapping/{x}/gt_tum.txt' ,self.dates['mapping'])))\n",
    "        for file_path in self.gt_train:\n",
    "            with open(file_path,'r') as f:\n",
    "                for string in f.readlines():\n",
    "                    timestamp, tx, ty, tz, qw, qx, qy, qz = string.split(' ')\n",
    "                    qz = qz.split('\\n')[0]\n",
    "                    trajectories.write(f'{timestamp}, sensor, {tx}, {ty}, {tz}, {qw}, {qx}, {qy}, {qz}' +'\\n')\n",
    "\n",
    "        trajectories.close()\n"
   ]
  },
  {
   "cell_type": "code",
   "execution_count": 11,
   "metadata": {
    "collapsed": true
   },
   "outputs": [
    {
     "name": "stdout",
     "output_type": "stream",
     "text": [
      "mkdir: cannot create directory ‘/home/rvmusaev/YaProfi/query/sensors’: File exists\n",
      "mkdir: cannot create directory ‘/home/rvmusaev/YaProfi/mapping/sensors’: File exists\n",
      "mkdir: cannot create directory ‘/home/rvmusaev/YaProfi/query/sensors/records_data’: File exists\n",
      "mkdir: cannot create directory ‘/home/rvmusaev/YaProfi/mapping/sensors/records_data’: File exists\n"
     ]
    },
    {
     "ename": "PermissionError",
     "evalue": "[Errno 13] Permission denied: '/home/rvmusaev/YaProfi/query/sensors/records_camera.txt'",
     "output_type": "error",
     "traceback": [
      "\u001b[0;31m---------------------------------------------------------------------------\u001b[0m",
      "\u001b[0;31mPermissionError\u001b[0m                           Traceback (most recent call last)",
      "\u001b[0;32m<ipython-input-11-c0ff3e7a7aa9>\u001b[0m in \u001b[0;36m<module>\u001b[0;34m\u001b[0m\n\u001b[1;32m      1\u001b[0m \u001b[0mpath\u001b[0m \u001b[0;34m=\u001b[0m \u001b[0;34mf'{USER}/YaProfi'\u001b[0m\u001b[0;34m\u001b[0m\u001b[0;34m\u001b[0m\u001b[0m\n\u001b[1;32m      2\u001b[0m \u001b[0mstructure\u001b[0m \u001b[0;34m=\u001b[0m \u001b[0mStructure\u001b[0m\u001b[0;34m(\u001b[0m\u001b[0mpath\u001b[0m\u001b[0;34m)\u001b[0m\u001b[0;34m\u001b[0m\u001b[0;34m\u001b[0m\u001b[0m\n\u001b[0;32m----> 3\u001b[0;31m \u001b[0mstructure\u001b[0m\u001b[0;34m.\u001b[0m\u001b[0mmkstructure\u001b[0m\u001b[0;34m(\u001b[0m\u001b[0;34m)\u001b[0m\u001b[0;34m\u001b[0m\u001b[0;34m\u001b[0m\u001b[0m\n\u001b[0m",
      "\u001b[0;32m<ipython-input-10-ac8c576f365c>\u001b[0m in \u001b[0;36mmkstructure\u001b[0;34m(self)\u001b[0m\n\u001b[1;32m     31\u001b[0m         \u001b[0;32mfor\u001b[0m \u001b[0mmode\u001b[0m \u001b[0;32min\u001b[0m \u001b[0mmodes\u001b[0m\u001b[0;34m:\u001b[0m\u001b[0;34m\u001b[0m\u001b[0;34m\u001b[0m\u001b[0m\n\u001b[1;32m     32\u001b[0m             \u001b[0mfreq\u001b[0m \u001b[0;34m=\u001b[0m \u001b[0mself\u001b[0m\u001b[0;34m.\u001b[0m\u001b[0mfrequency\u001b[0m\u001b[0;34m[\u001b[0m\u001b[0mmode\u001b[0m\u001b[0;34m]\u001b[0m\u001b[0;34m\u001b[0m\u001b[0;34m\u001b[0m\u001b[0m\n\u001b[0;32m---> 33\u001b[0;31m             \u001b[0mrecords_camera\u001b[0m \u001b[0;34m=\u001b[0m \u001b[0mopen\u001b[0m\u001b[0;34m(\u001b[0m\u001b[0;34mf'{self.root}/{mode}/sensors/records_camera.txt'\u001b[0m\u001b[0;34m,\u001b[0m \u001b[0;34m\"w\"\u001b[0m\u001b[0;34m)\u001b[0m\u001b[0;34m\u001b[0m\u001b[0;34m\u001b[0m\u001b[0m\n\u001b[0m\u001b[1;32m     34\u001b[0m             \u001b[0mrecords_camera\u001b[0m\u001b[0;34m.\u001b[0m\u001b[0mwrite\u001b[0m\u001b[0;34m(\u001b[0m\u001b[0;34m'# timestamp, device_id, image_path\\n'\u001b[0m\u001b[0;34m)\u001b[0m\u001b[0;34m\u001b[0m\u001b[0;34m\u001b[0m\u001b[0m\n\u001b[1;32m     35\u001b[0m \u001b[0;34m\u001b[0m\u001b[0m\n",
      "\u001b[0;31mPermissionError\u001b[0m: [Errno 13] Permission denied: '/home/rvmusaev/YaProfi/query/sensors/records_camera.txt'"
     ]
    }
   ],
   "source": [
    "path = f'{USER}/YaProfi'\n",
    "structure = Structure(path)\n",
    "structure.mkstructure()"
   ]
  },
  {
   "cell_type": "code",
   "execution_count": 17,
   "metadata": {
    "id": "wlngcmChcw3O"
   },
   "outputs": [],
   "source": [
    "class FeatureExctractor():\n",
    "  \n",
    "  def __init__(self, root):\n",
    "    self.root = root\n",
    "    self.modes = ['query', 'mapping']\n",
    "\n",
    "  def extract_global_features(self):\n",
    "    for mode in self.modes:\n",
    "        kapture_root = USER + f'/YaProfi/{mode}'\n",
    "        print(kapture_root)\n",
    "        %cd $self.root/deep-image-retrieval\n",
    "        !python3 -m dirtorch.extract_kapture --kapture-root $kapture_root --checkpoint Resnet101-AP-GeM-LM18.pt --gpu 0\n",
    "        %cd f'/home/{USER}/YaProfi'\n",
    "\n",
    "  def extract_local_features(self, TOP_K = 5000, min_size = 225, min_scale = 0.3, max_scale = 1.0):\n",
    "    for mode in self.modes:\n",
    "        kapture_root = USER + f'/YaProfi/{mode}'\n",
    "        !python3 $self.root/r2d2/extract_kapture.py --kapture-root $kapture_root --model $self.root/r2d2/models/r2d2_WASF_N8_big.pt \n",
    "\n",
    "\n"
   ]
  },
  {
   "cell_type": "code",
   "execution_count": 14,
   "metadata": {
    "collapsed": true,
    "id": "nBRM4zxvGzOY"
   },
   "outputs": [
    {
     "name": "stdout",
     "output_type": "stream",
     "text": [
      "/home/rvmusaev/YaProfi/query\n",
      "/home/repo/deep-image-retrieval\n",
      "Launching on GPUs 0\n",
      "=> loading checkpoint 'Resnet101-AP-GeM-LM18.pt' (current_iter 376)\n",
      "loading /home/rvmusaev/YaProfi/query\n",
      "All global features are already extracted\n",
      "\u001b[0m/home/repo\n",
      "/home/rvmusaev/YaProfi/mapping\n",
      "/home/repo/deep-image-retrieval\n",
      "Launching on GPUs 0\n",
      "=> loading checkpoint 'Resnet101-AP-GeM-LM18.pt' (current_iter 376)\n",
      "loading /home/rvmusaev/YaProfi/mapping\n",
      "Traceback (most recent call last):\n",
      "  File \"/usr/lib/python3.6/runpy.py\", line 193, in _run_module_as_main\n",
      "    \"__main__\", mod_spec)\n",
      "  File \"/usr/lib/python3.6/runpy.py\", line 85, in _run_code\n",
      "    exec(code, run_globals)\n",
      "  File \"/home/repo/deep-image-retrieval/dirtorch/extract_kapture.py\", line 120, in <module>\n",
      "    threads=args.threads, whiten=args.whiten)\n",
      "  File \"/home/repo/deep-image-retrieval/dirtorch/extract_kapture.py\", line 29, in extract_kapture_global_features\n",
      "    kapture.Observations])\n",
      "  File \"/usr/local/lib/python3.6/dist-packages/kapture/io/csv.py\", line 1215, in kapture_from_dir\n",
      "    _load_all_records(csv_file_paths, kapture_loadable_data, kapture_data)\n",
      "  File \"/usr/local/lib/python3.6/dist-packages/kapture/io/csv.py\", line 1253, in _load_all_records\n",
      "    kapture_data.records_camera = records_camera_from_file(csv_file_paths[kapture.RecordsCamera], sensor_ids)\n",
      "  File \"/usr/local/lib/python3.6/dist-packages/kapture/io/csv.py\", line 425, in records_camera_from_file\n",
      "    records_camera[(int(timestamp), str(device_id))] = image_path\n",
      "ValueError: invalid literal for int() with base 10: '\\x00\\x00\\x00\\x00\\x00\\x00\\x00\\x00\\x00\\x00\\x00\\x00\\x00\\x00\\x00\\x00\\x00\\x00\\x00\\x00\\x00\\x00\\x00\\x00\\x00\\x00\\x00\\x00\\x00\\x00\\x00\\x00\\x00\\x00\\x00\\x00\\x00\\x00\\x00\\x00\\x00\\x00\\x00\\x00\\x00\\x00\\x00\\x00\\x00\\x0\n",
      "\u001b[0m/home/repo\n",
      "extract_kapture_keypoints...\n",
      "All features were already extracted\n",
      "\u001b[0mextract_kapture_keypoints...\n",
      "Traceback (most recent call last):\n",
      "  File \"/home/repo/r2d2/extract_kapture.py\", line 149, in <module>\n",
      "    extract_kapture_keypoints(args)\n",
      "  File \"/home/repo/r2d2/extract_kapture.py\", line 34, in extract_kapture_keypoints\n",
      "    kapture.Observations])\n",
      "  File \"/usr/local/lib/python3.6/dist-packages/kapture/io/csv.py\", line 1215, in kapture_from_dir\n",
      "    _load_all_records(csv_file_paths, kapture_loadable_data, kapture_data)\n",
      "  File \"/usr/local/lib/python3.6/dist-packages/kapture/io/csv.py\", line 1253, in _load_all_records\n",
      "    kapture_data.records_camera = records_camera_from_file(csv_file_paths[kapture.RecordsCamera], sensor_ids)\n",
      "  File \"/usr/local/lib/python3.6/dist-packages/kapture/io/csv.py\", line 425, in records_camera_from_file\n",
      "    records_camera[(int(timestamp), str(device_id))] = image_path\n",
      "ValueError: invalid literal for int() with base 10: '\\x00\\x00\\x00\\x00\\x00\\x00\\x00\\x00\\x00\\x00\\x00\\x00\\x00\\x00\\x00\\x00\\x00\\x00\\x00\\x00\\x00\\x00\\x00\\x00\\x00\\x00\\x00\\x00\\x00\\x00\\x00\\x00\\x00\\x00\\x00\\x00\\x00\\x00\\x00\\x00\\x00\\x00\\x00\\x00\\x00\\x00\\x00\\x00\\x00\\x0\n",
      "\u001b[0m"
     ]
    }
   ],
   "source": [
    "path = '/home/repo'\n",
    "extractor = FeatureExctractor(path)\n",
    "extractor.extract_global_features()\n",
    "extractor.extract_local_features()"
   ]
  },
  {
   "cell_type": "code",
   "execution_count": 60,
   "metadata": {
    "id": "lwYFhw_8cwze"
   },
   "outputs": [
    {
     "data": {
      "text/plain": [
       "sensors        : 13424\n",
       "records_camera : 13424"
      ]
     },
     "execution_count": 60,
     "metadata": {},
     "output_type": "execute_result"
    }
   ],
   "source": [
    "from kapture.io.features import keypoints_to_filepaths, image_keypoints_from_file\n",
    "from kapture.io.records import images_to_filepaths\n",
    "from kapture.io.image import image_keypoints_to_image_file\n",
    "import kapture.io.csv as csv\n",
    "\n",
    "kapture_data = csv.kapture_from_dir(f'{USER}/YaProfi/query')\n",
    "kapture_data"
   ]
  },
  {
   "cell_type": "markdown",
   "metadata": {
    "id": "x2hSKtzuUZ7e"
   },
   "source": [
    "## RESULTS"
   ]
  },
  {
   "cell_type": "code",
   "execution_count": 15,
   "metadata": {
    "collapsed": true
   },
   "outputs": [
    {
     "name": "stdout",
     "output_type": "stream",
     "text": [
      "Traceback (most recent call last):\r\n",
      "  File \"/home/repo/kapture-localization/tools/kapture_compute_image_pairs.py\", line 137, in <module>\r\n",
      "    compute_image_pairs_command_line()\r\n",
      "  File \"/home/repo/kapture-localization/tools/kapture_compute_image_pairs.py\", line 133, in compute_image_pairs_command_line\r\n",
      "    compute_image_pairs(args.mapping, args.query, args.output, args.topk)\r\n",
      "  File \"/home/repo/kapture-localization/tools/kapture_compute_image_pairs.py\", line 44, in compute_image_pairs\r\n",
      "    kapture.Points3d])\r\n",
      "  File \"/home/repo/kapture/kapture/io/csv.py\", line 1294, in kapture_from_dir\r\n",
      "    _load_all_records(csv_file_paths, kapture_loadable_data, kapture_data)\r\n",
      "  File \"/home/repo/kapture/kapture/io/csv.py\", line 1332, in _load_all_records\r\n",
      "    kapture_data.records_camera = records_camera_from_file(csv_file_paths[kapture.RecordsCamera], sensor_ids)\r\n",
      "  File \"/home/repo/kapture/kapture/io/csv.py\", line 457, in records_camera_from_file\r\n",
      "    records_camera[(int(timestamp), str(device_id))] = image_path\r\n",
      "ValueError: invalid literal for int() with base 10: '\\x00\\x00\\x00\\x00\\x00\\x00\\x00\\x00\\x00\\x00\\x00\\x00\\x00\\x00\\x00\\x00\\x00\\x00\\x00\\x00\\x00\\x00\\x00\\x00\\x00\\x00\\x00\\x00\\x00\\x00\\x00\\x00\\x00\\x00\\x00\\x00\\x00\\x00\\x00\\x00\\x00\\x00\\x00\\x00\\x00\\x00\\x00\\x00\\x00\\x0\r\n",
      "\u001b[0m"
     ]
    }
   ],
   "source": [
    "mapping = f'{USER}/YaProfi/mapping' \n",
    "query = f'{USER}/YaProfi/query' \n",
    "!python3 /home/repo/kapture-localization/tools/kapture_compute_image_pairs.py --query $query --mapping $mapping -o pairs_mapping_3.txt --topk 3 "
   ]
  },
  {
   "cell_type": "code",
   "execution_count": null,
   "metadata": {},
   "outputs": [],
   "source": [
    "imageslist = []\n",
    "traject_list = []\n",
    "\n",
    "with open('/home/repo/kapture-localization/samples/YaProfi/mapping/sensors/records_camera.txt') as fin:\n",
    "  for j in fin.readlines():\n",
    "    imageslist.append(j.split(', ')[-1].split('\\n')[0])\n",
    "\n",
    "\n",
    "with open(f'{USER}/YaProfi/mapping/trajectories.txt') as fin:\n",
    "  for j in fin.readlines()[1:]:\n",
    "    traject_list.append(tuple(j.split(', ')[2:]))\n",
    "\n",
    "\n",
    "image_to_trajectories = {}\n",
    "for key, value in zip(imageslist, traject_list):\n",
    "  image_to_trajectories[key] = value\n",
    "\n",
    "image_to_trajectories"
   ]
  },
  {
   "cell_type": "code",
   "execution_count": null,
   "metadata": {},
   "outputs": [],
   "source": [
    "list_matches_Ap_Gem = []\n",
    "answer_loc = []\n",
    "with open('pairs_mapping_3.txt','r') as f:\n",
    "  for line in f:\n",
    "    list_matches_Ap_Gem.append(line)\n",
    "    \n",
    "list_matches_Ap_Gem = list_matches_Ap_Gem[2:]\n",
    "\n",
    "#import re\n",
    "#list_matches_Ap_Gem = sorted(list_matches_Ap_Gem,key=lambda x: (re.split(r'left',x.split(', ')[0])[0],int(re.split(r'left', x.split(', ')[0])[2].split('.')[0])))\n",
    "  \n",
    "s = slice(0, len(sorted(list_matches_Ap_Gem,key = lambda x: x[0])),3)\n",
    "indices = range(s.start, s.stop, s.step)\n",
    "it = iter(indices)\n",
    "\n",
    "\n",
    "for pair in it:\n",
    "  ap_gem = sorted(list_matches_Ap_Gem,key = lambda x: x[0])[pair:pair+3]\n",
    "  ap_gem_query, ap_gem_mapping1, ap_gem_metric1 = ap_gem[0].split(', ')\n",
    "  answer_loc.append(image_to_trajectories[ap_gem_mapping1])"
   ]
  },
  {
   "cell_type": "code",
   "execution_count": null,
   "metadata": {},
   "outputs": [],
   "source": [
    "answer = list(map(lambda x:x[:3]), answer_loc)\n",
    "submission = open('submission.txt','w')\n",
    "for frame in answer:\n",
    "    string = ' 'os.path.join(*frame)\n",
    "    submission.write(string)\n",
    "    \n",
    "submission.close()"
   ]
  }
 ],
 "metadata": {
  "accelerator": "GPU",
  "colab": {
   "name": "Untitled46.ipynb",
   "provenance": []
  },
  "kernelspec": {
   "display_name": "Python 3",
   "language": "python",
   "name": "python3"
  },
  "language_info": {
   "codemirror_mode": {
    "name": "ipython",
    "version": 3
   },
   "file_extension": ".py",
   "mimetype": "text/x-python",
   "name": "python",
   "nbconvert_exporter": "python",
   "pygments_lexer": "ipython3",
   "version": "3.6.9"
  }
 },
 "nbformat": 4,
 "nbformat_minor": 1
}
