{
 "cells": [
  {
   "cell_type": "markdown",
   "metadata": {
    "id": "sEIcutT714x4"
   },
   "source": [
    "#  YaProfi baseline"
   ]
  },
  {
   "cell_type": "markdown",
   "metadata": {},
   "source": [
    "#structure:\n",
    "kapture\n",
    "├─ mapping #train\n",
    "│  └─ sensors\n",
    "│     ├─ sensors.txt          # list of all sensors with their specifications (e.g. camera intrinsics)\n",
    "│     ├─ trajectories.txt     # extrinsics (timestamp, sensor, pose)\n",
    "│     ├─ records_camera.txt   # all records of type 'camera' (timestamp, sensor and path to image)\n",
    "│     └─ records_data/        # image data path\n",
    "├─ query #test\n",
    "│  └─ sensors\n",
    "│     ├─ sensors.txt          # list of all sensors with their specifications (e.g. camera intrinsics)\n",
    "│     ├─ trajectories.txt     # if available: extrinsics (timestamp, sensor, pose)\n",
    "│     ├─ records_camera.txt   # all records of type 'camera' (timestamp, sensor and path to image)\n",
    "│     └─ records_data/        # image data path"
   ]
  },
  {
   "cell_type": "code",
   "execution_count": null,
   "metadata": {},
   "outputs": [],
   "source": [
    "import os\n",
    "USER = os.getcwd()\n",
    "kapture_path = os.path.join(USER, 'kapture')\n",
    "query_path = 'kapture/query/sensors/records_data'\n",
    "mapping_path = 'kapture/mapping/sensors/records_data'\n",
    "os.makedirs(query_path)\n",
    "os.makedirs(mapping_path)\n",
    "dataset_path = 'path/to/dataset/YaProfi/for_participants'\n",
    "model_path = 'path/to/model'\n",
    "repo_path = 'path/to/repo-folder'\n",
    "\n",
    "!mv model_path $repo_path/deep-image-retrieval"
   ]
  },
  {
   "cell_type": "code",
   "execution_count": null,
   "metadata": {},
   "outputs": [],
   "source": [
    "dataset_path_query = os.path.join(dataset_path, 'test/')\n",
    "dataset_path_mapping = os.path.join(dataset_path, 'train/')\n",
    "kapture_path = os.path.join(USER, 'kapture')\n",
    "\n",
    "!ln -s $dataset_path_query* $query_path\n",
    "!ln -s $dataset_path_mapping* $mapping_path"
   ]
  },
  {
   "cell_type": "code",
   "execution_count": null,
   "metadata": {
    "executionInfo": {
     "elapsed": 577,
     "status": "ok",
     "timestamp": 1617981151523,
     "user": {
      "displayName": "Руслан Владимирович Мусаев",
      "photoUrl": "",
      "userId": "15290517068381553356"
     },
     "user_tz": -180
    },
    "id": "cdTuCQWofeIr"
   },
   "outputs": [],
   "source": [
    "import os\n",
    "from tqdm import tqdm\n",
    "\n",
    "class Structure():\n",
    "    \n",
    "    '''\n",
    "    Make appropriate for Kapture structure :\n",
    "    \n",
    "    kapture_dir/\n",
    "        query/\n",
    "            sensors/\n",
    "                ...\n",
    "        mapping/\n",
    "            sensors/\n",
    "                ...\n",
    "    '''\n",
    "\n",
    "    def __init__(self, root):\n",
    "   \n",
    "        self.root = root\n",
    "        self.frequency = {'query': 1, 'mapping': 20}\n",
    "        self.dates = {'mapping':['2021-03-27-09-08-15','2021-03-27-10-17-01', '2021-03-27-10-32-53'],'query':['2021-03-27-03-30-47', '2021-03-31-12-33-50']}\n",
    "\n",
    "    def mkstructure(self):\n",
    "        modes = ['query','mapping']\n",
    "        for mode in modes:\n",
    "            freq = self.frequency[mode]\n",
    "            records_camera = open(f'{self.root}/{mode}/sensors/records_camera.txt', \"w\")\n",
    "            records_camera.write('# timestamp, device_id, image_path\\n')\n",
    "            \n",
    "            sensor =  open(f'{self.root}/{mode}/sensors/sensors.txt', 'w')\n",
    "            sensor.write('# sensor_id, name, sensor_type, [sensor_params]+\\n')\n",
    "                  \n",
    "            dates = sorted(self.dates[mode])\n",
    "            count = 0  \n",
    "            for date in dates:\n",
    "                images = sorted(os.listdir(f'{self.root}/{mode}/sensors/records_data/{date}/rgb_left'))\n",
    "                for index,image in tqdm(enumerate(images)):\n",
    "                    if index % freq == 0:\n",
    "                        string_records_camera = f'{count}, sensor{count}, {self.root}/{mode}/sensors/records_data/{image}' +'\\n'\n",
    "                        records_camera.write(string_records_camera)\n",
    "\n",
    "                        string_sensor = f'sensor{count}, , camera, PINHOLE, 1280, 720, 684.06805, 684.06805, 615.11951, 345.32159 \\n'\n",
    "                        sensor.write(string_sensor)\n",
    "                        count+=1 \n",
    "            records_camera.close()\n",
    "            sensor.close()\n",
    "        \n",
    "        count = 0 \n",
    "        for mode in modes:\n",
    "            trajectories = open(f'{self.root}/{mode}/sensors/trajectories.txt','w')\n",
    "            trajectories.write('# timestamp, device_id, tx, ty, tz, qw, qx, qy, qz\\n')\n",
    "            gt_train =  sorted(list(map(lambda x: '{}/{}/sensors/records_data/{}/gt_tum.txt'.format(self.root, mode, x), self.dates[mode])))\n",
    "            for file_path in gt_train:\n",
    "                if mode == 'query':\n",
    "                    print(file_path)\n",
    "                with open(file_path,'r') as f:\n",
    "                    for string in f.readlines():\n",
    "                        timestamp, tx, ty, tz, qw, qx, qy, qz = string.split(' ')\n",
    "                        qz = qz.split('\\n')[0]\n",
    "                        trajectories.write(f'{count}, sensor, {tx}, {ty}, {tz}, {qw}, {qx}, {qy}, {qz}' +'\\n')\n",
    "                        count+=1\n",
    "            trajectories.close()\n"
   ]
  },
  {
   "cell_type": "code",
   "execution_count": null,
   "metadata": {},
   "outputs": [],
   "source": [
    "path = f'{USER}/kapture'\n",
    "structure = Structure(path)\n",
    "structure.mkstructure()\n",
    "for_rm = filter(lambda x: x != 'sensors',os.listdir(path + '/query'));"
   ]
  },
  {
   "cell_type": "code",
   "execution_count": null,
   "metadata": {
    "id": "wlngcmChcw3O"
   },
   "outputs": [],
   "source": [
    "class FeatureExctractor():\n",
    "  \n",
    "  def __init__(self, root):\n",
    "    self.root = root\n",
    "    self.modes = ['query', 'mapping']\n",
    "\n",
    "  def extract_global_features(self):\n",
    "    for mode in self.modes:\n",
    "        kapture_root = USER + '/kapture/{}'.format(mode)\n",
    "        print(kapture_root)\n",
    "        %cd $self.root/deep-image-retrieval\n",
    "        !python3 -m dirtorch.extract_kapture --kapture-root $kapture_root --checkpoint Resnet101-AP-GeM-LM18.pt --gpu 0\n",
    "        %cd $USER/kapture\n",
    "\n",
    "  def extract_local_features(self, TOP_K = 5000, min_size = 225, min_scale = 0.3, max_scale = 1.0):\n",
    "    for mode in self.modes:\n",
    "        kapture_root = USER + '/kapture/{}'.format(mode)\n",
    "        !python3 $self.root/r2d2/extract_kapture.py --kapture-root $kapture_root --model $self.root/r2d2/models/r2d2_WASF_N8_big.pt \n",
    "\n",
    "\n"
   ]
  },
  {
   "cell_type": "code",
   "execution_count": null,
   "metadata": {
    "id": "nBRM4zxvGzOY"
   },
   "outputs": [],
   "source": [
    "extractor = FeatureExctractor(repo_path)\n",
    "extractor.extract_global_features()"
   ]
  },
  {
   "cell_type": "code",
   "execution_count": null,
   "metadata": {},
   "outputs": [],
   "source": [
    "extractor.extract_local_features()"
   ]
  },
  {
   "cell_type": "code",
   "execution_count": null,
   "metadata": {
    "id": "lwYFhw_8cwze"
   },
   "outputs": [],
   "source": [
    "from kapture.io.features import keypoints_to_filepaths, image_keypoints_from_file\n",
    "from kapture.io.records import images_to_filepaths\n",
    "from kapture.io.image import image_keypoints_to_image_file\n",
    "import kapture.io.csv as csv\n",
    "\n",
    "kapture_data = csv.kapture_from_dir(f'{USER}/kapture/query')\n",
    "kapture_data"
   ]
  },
  {
   "cell_type": "markdown",
   "metadata": {
    "id": "x2hSKtzuUZ7e"
   },
   "source": [
    "## RESULTS"
   ]
  },
  {
   "cell_type": "code",
   "execution_count": null,
   "metadata": {},
   "outputs": [],
   "source": [
    "mapping = f'{USER}/kapture/mapping' \n",
    "query = f'{USER}/kapture/query' \n",
    "!python3 /home/repo/kapture-localization/tools/kapture_compute_image_pairs.py --query $query --mapping $mapping -o pairs_mapping_3.txt --topk 3 "
   ]
  },
  {
   "cell_type": "code",
   "execution_count": null,
   "metadata": {},
   "outputs": [],
   "source": [
    "imageslist = []\n",
    "traject_list = []\n",
    "\n",
    "with open('{}/kapture/mapping/sensors/records_camera.txt'.format(USER)) as fin:\n",
    "  for j in fin.readlines():\n",
    "    imageslist.append(j.split(', ')[-1].split('\\n')[0])\n",
    "\n",
    "\n",
    "with open('{}/kapture/mapping/sensors/trajectories.txt'.format(USER)) as fin:\n",
    "  for j in fin.readlines()[1:]:\n",
    "    traject_list.append(tuple(j.split(', ')[2:]))\n",
    "\n",
    "\n",
    "image_to_trajectories = {}\n",
    "for key, value in zip(imageslist, traject_list):\n",
    "  image_to_trajectories[key] = value\n",
    "\n",
    "image_to_trajectories"
   ]
  },
  {
   "cell_type": "code",
   "execution_count": null,
   "metadata": {},
   "outputs": [],
   "source": [
    "list_matches_Ap_Gem = []\n",
    "answer_loc = []\n",
    "with open('pairs_mapping_3.txt','r') as f:\n",
    "  for line in f:\n",
    "    list_matches_Ap_Gem.append(line)\n",
    "    \n",
    "list_matches_Ap_Gem = list_matches_Ap_Gem[2:]\n",
    "\n",
    "s = slice(0, len(sorted(list_matches_Ap_Gem,key = lambda x: x[0])),3)\n",
    "indices = range(s.start, s.stop, s.step)\n",
    "it = iter(indices)\n",
    "\n",
    "\n",
    "for pair in it:\n",
    "  ap_gem = sorted(list_matches_Ap_Gem,key = lambda x: x[0])[pair:pair+3]\n",
    "  ap_gem_query, ap_gem_mapping1, ap_gem_metric1 = ap_gem[0].split(', ')\n",
    "  answer_loc.append(image_to_trajectories[ap_gem_mapping1])"
   ]
  },
  {
   "cell_type": "code",
   "execution_count": null,
   "metadata": {},
   "outputs": [],
   "source": [
    "%cd USER\n",
    "answer = list(map(lambda x:x[:3], answer_loc))\n",
    "submission = open('submission.txt','w')\n",
    "for frame in answer:\n",
    "    string = ' '.join(frame)\n",
    "    submission.write(string+'\\n')\n",
    "    \n",
    "submission.close()"
   ]
  },
  {
   "cell_type": "code",
   "execution_count": null,
   "metadata": {},
   "outputs": [],
   "source": [
    "!pwd"
   ]
  },
  {
   "cell_type": "code",
   "execution_count": null,
   "metadata": {},
   "outputs": [],
   "source": []
  }
 ],
 "metadata": {
  "accelerator": "GPU",
  "colab": {
   "name": "Untitled46.ipynb",
   "provenance": []
  },
  "kernelspec": {
   "display_name": "Python 3",
   "language": "python",
   "name": "python3"
  },
  "language_info": {
   "codemirror_mode": {
    "name": "ipython",
    "version": 3
   },
   "file_extension": ".py",
   "mimetype": "text/x-python",
   "name": "python",
   "nbconvert_exporter": "python",
   "pygments_lexer": "ipython3",
   "version": "3.6.9"
  }
 },
 "nbformat": 4,
 "nbformat_minor": 1
}
